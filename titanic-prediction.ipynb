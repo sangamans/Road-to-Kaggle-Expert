{
 "cells": [
  {
   "cell_type": "code",
   "execution_count": 1,
   "id": "30f21175",
   "metadata": {
    "execution": {
     "iopub.execute_input": "2022-06-29T19:45:28.413610Z",
     "iopub.status.busy": "2022-06-29T19:45:28.413088Z",
     "iopub.status.idle": "2022-06-29T19:45:28.456887Z",
     "shell.execute_reply": "2022-06-29T19:45:28.455885Z"
    },
    "papermill": {
     "duration": 0.061147,
     "end_time": "2022-06-29T19:45:28.459589",
     "exception": false,
     "start_time": "2022-06-29T19:45:28.398442",
     "status": "completed"
    },
    "tags": []
   },
   "outputs": [],
   "source": [
    "import numpy as np\n",
    "import pandas as pd\n",
    "\n",
    "# read data file\n",
    "train = pd.read_csv(\"../input/titanic/train.csv\")\n",
    "test = pd.read_csv(\"../input/titanic/train.csv\")"
   ]
  },
  {
   "cell_type": "markdown",
   "id": "1bbe656d",
   "metadata": {
    "papermill": {
     "duration": 0.010822,
     "end_time": "2022-06-29T19:45:28.481861",
     "exception": false,
     "start_time": "2022-06-29T19:45:28.471039",
     "status": "completed"
    },
    "tags": []
   },
   "source": [
    "# Exploratory Data Analysis"
   ]
  },
  {
   "cell_type": "markdown",
   "id": "157efdfc",
   "metadata": {
    "papermill": {
     "duration": 0.010601,
     "end_time": "2022-06-29T19:45:28.503347",
     "exception": false,
     "start_time": "2022-06-29T19:45:28.492746",
     "status": "completed"
    },
    "tags": []
   },
   "source": [
    "### Check For Missing Values"
   ]
  },
  {
   "cell_type": "code",
   "execution_count": 2,
   "id": "b88a4250",
   "metadata": {
    "execution": {
     "iopub.execute_input": "2022-06-29T19:45:28.526229Z",
     "iopub.status.busy": "2022-06-29T19:45:28.525930Z",
     "iopub.status.idle": "2022-06-29T19:45:28.539405Z",
     "shell.execute_reply": "2022-06-29T19:45:28.538402Z"
    },
    "papermill": {
     "duration": 0.027796,
     "end_time": "2022-06-29T19:45:28.541778",
     "exception": false,
     "start_time": "2022-06-29T19:45:28.513982",
     "status": "completed"
    },
    "tags": []
   },
   "outputs": [
    {
     "data": {
      "text/plain": [
       "PassengerId      0\n",
       "Survived         0\n",
       "Pclass           0\n",
       "Name             0\n",
       "Sex              0\n",
       "Age            177\n",
       "SibSp            0\n",
       "Parch            0\n",
       "Ticket           0\n",
       "Fare             0\n",
       "Cabin          687\n",
       "Embarked         2\n",
       "dtype: int64"
      ]
     },
     "execution_count": 2,
     "metadata": {},
     "output_type": "execute_result"
    }
   ],
   "source": [
    "train.isnull().sum()\n",
    "# Age is missing 177 rows of data\n",
    "# cabin is missing 687 rows of data"
   ]
  },
  {
   "cell_type": "code",
   "execution_count": 3,
   "id": "9d1e2394",
   "metadata": {
    "execution": {
     "iopub.execute_input": "2022-06-29T19:45:28.566587Z",
     "iopub.status.busy": "2022-06-29T19:45:28.566306Z",
     "iopub.status.idle": "2022-06-29T19:45:28.593075Z",
     "shell.execute_reply": "2022-06-29T19:45:28.591579Z"
    },
    "papermill": {
     "duration": 0.042404,
     "end_time": "2022-06-29T19:45:28.596138",
     "exception": false,
     "start_time": "2022-06-29T19:45:28.553734",
     "status": "completed"
    },
    "tags": []
   },
   "outputs": [
    {
     "name": "stdout",
     "output_type": "stream",
     "text": [
      "<class 'pandas.core.frame.DataFrame'>\n",
      "RangeIndex: 891 entries, 0 to 890\n",
      "Data columns (total 12 columns):\n",
      " #   Column       Non-Null Count  Dtype  \n",
      "---  ------       --------------  -----  \n",
      " 0   PassengerId  891 non-null    int64  \n",
      " 1   Survived     891 non-null    int64  \n",
      " 2   Pclass       891 non-null    int64  \n",
      " 3   Name         891 non-null    object \n",
      " 4   Sex          891 non-null    object \n",
      " 5   Age          714 non-null    float64\n",
      " 6   SibSp        891 non-null    int64  \n",
      " 7   Parch        891 non-null    int64  \n",
      " 8   Ticket       891 non-null    object \n",
      " 9   Fare         891 non-null    float64\n",
      " 10  Cabin        204 non-null    object \n",
      " 11  Embarked     889 non-null    object \n",
      "dtypes: float64(2), int64(5), object(5)\n",
      "memory usage: 83.7+ KB\n"
     ]
    }
   ],
   "source": [
    "train.info()"
   ]
  },
  {
   "cell_type": "code",
   "execution_count": 4,
   "id": "de4f392a",
   "metadata": {
    "execution": {
     "iopub.execute_input": "2022-06-29T19:45:28.623829Z",
     "iopub.status.busy": "2022-06-29T19:45:28.623526Z",
     "iopub.status.idle": "2022-06-29T19:45:28.663575Z",
     "shell.execute_reply": "2022-06-29T19:45:28.662832Z"
    },
    "papermill": {
     "duration": 0.057484,
     "end_time": "2022-06-29T19:45:28.666956",
     "exception": false,
     "start_time": "2022-06-29T19:45:28.609472",
     "status": "completed"
    },
    "tags": []
   },
   "outputs": [
    {
     "data": {
      "text/html": [
       "<div>\n",
       "<style scoped>\n",
       "    .dataframe tbody tr th:only-of-type {\n",
       "        vertical-align: middle;\n",
       "    }\n",
       "\n",
       "    .dataframe tbody tr th {\n",
       "        vertical-align: top;\n",
       "    }\n",
       "\n",
       "    .dataframe thead th {\n",
       "        text-align: right;\n",
       "    }\n",
       "</style>\n",
       "<table border=\"1\" class=\"dataframe\">\n",
       "  <thead>\n",
       "    <tr style=\"text-align: right;\">\n",
       "      <th></th>\n",
       "      <th>PassengerId</th>\n",
       "      <th>Survived</th>\n",
       "      <th>Pclass</th>\n",
       "      <th>Name</th>\n",
       "      <th>Sex</th>\n",
       "      <th>Age</th>\n",
       "      <th>SibSp</th>\n",
       "      <th>Parch</th>\n",
       "      <th>Ticket</th>\n",
       "      <th>Fare</th>\n",
       "      <th>Cabin</th>\n",
       "      <th>Embarked</th>\n",
       "    </tr>\n",
       "  </thead>\n",
       "  <tbody>\n",
       "    <tr>\n",
       "      <th>0</th>\n",
       "      <td>1</td>\n",
       "      <td>0</td>\n",
       "      <td>3</td>\n",
       "      <td>Braund, Mr. Owen Harris</td>\n",
       "      <td>male</td>\n",
       "      <td>22.0</td>\n",
       "      <td>1</td>\n",
       "      <td>0</td>\n",
       "      <td>A/5 21171</td>\n",
       "      <td>7.2500</td>\n",
       "      <td>NaN</td>\n",
       "      <td>S</td>\n",
       "    </tr>\n",
       "    <tr>\n",
       "      <th>1</th>\n",
       "      <td>2</td>\n",
       "      <td>1</td>\n",
       "      <td>1</td>\n",
       "      <td>Cumings, Mrs. John Bradley (Florence Briggs Th...</td>\n",
       "      <td>female</td>\n",
       "      <td>38.0</td>\n",
       "      <td>1</td>\n",
       "      <td>0</td>\n",
       "      <td>PC 17599</td>\n",
       "      <td>71.2833</td>\n",
       "      <td>C85</td>\n",
       "      <td>C</td>\n",
       "    </tr>\n",
       "    <tr>\n",
       "      <th>2</th>\n",
       "      <td>3</td>\n",
       "      <td>1</td>\n",
       "      <td>3</td>\n",
       "      <td>Heikkinen, Miss. Laina</td>\n",
       "      <td>female</td>\n",
       "      <td>26.0</td>\n",
       "      <td>0</td>\n",
       "      <td>0</td>\n",
       "      <td>STON/O2. 3101282</td>\n",
       "      <td>7.9250</td>\n",
       "      <td>NaN</td>\n",
       "      <td>S</td>\n",
       "    </tr>\n",
       "    <tr>\n",
       "      <th>3</th>\n",
       "      <td>4</td>\n",
       "      <td>1</td>\n",
       "      <td>1</td>\n",
       "      <td>Futrelle, Mrs. Jacques Heath (Lily May Peel)</td>\n",
       "      <td>female</td>\n",
       "      <td>35.0</td>\n",
       "      <td>1</td>\n",
       "      <td>0</td>\n",
       "      <td>113803</td>\n",
       "      <td>53.1000</td>\n",
       "      <td>C123</td>\n",
       "      <td>S</td>\n",
       "    </tr>\n",
       "    <tr>\n",
       "      <th>4</th>\n",
       "      <td>5</td>\n",
       "      <td>0</td>\n",
       "      <td>3</td>\n",
       "      <td>Allen, Mr. William Henry</td>\n",
       "      <td>male</td>\n",
       "      <td>35.0</td>\n",
       "      <td>0</td>\n",
       "      <td>0</td>\n",
       "      <td>373450</td>\n",
       "      <td>8.0500</td>\n",
       "      <td>NaN</td>\n",
       "      <td>S</td>\n",
       "    </tr>\n",
       "    <tr>\n",
       "      <th>...</th>\n",
       "      <td>...</td>\n",
       "      <td>...</td>\n",
       "      <td>...</td>\n",
       "      <td>...</td>\n",
       "      <td>...</td>\n",
       "      <td>...</td>\n",
       "      <td>...</td>\n",
       "      <td>...</td>\n",
       "      <td>...</td>\n",
       "      <td>...</td>\n",
       "      <td>...</td>\n",
       "      <td>...</td>\n",
       "    </tr>\n",
       "    <tr>\n",
       "      <th>884</th>\n",
       "      <td>887</td>\n",
       "      <td>0</td>\n",
       "      <td>2</td>\n",
       "      <td>Montvila, Rev. Juozas</td>\n",
       "      <td>male</td>\n",
       "      <td>27.0</td>\n",
       "      <td>0</td>\n",
       "      <td>0</td>\n",
       "      <td>211536</td>\n",
       "      <td>13.0000</td>\n",
       "      <td>NaN</td>\n",
       "      <td>S</td>\n",
       "    </tr>\n",
       "    <tr>\n",
       "      <th>885</th>\n",
       "      <td>888</td>\n",
       "      <td>1</td>\n",
       "      <td>1</td>\n",
       "      <td>Graham, Miss. Margaret Edith</td>\n",
       "      <td>female</td>\n",
       "      <td>19.0</td>\n",
       "      <td>0</td>\n",
       "      <td>0</td>\n",
       "      <td>112053</td>\n",
       "      <td>30.0000</td>\n",
       "      <td>B42</td>\n",
       "      <td>S</td>\n",
       "    </tr>\n",
       "    <tr>\n",
       "      <th>886</th>\n",
       "      <td>889</td>\n",
       "      <td>0</td>\n",
       "      <td>3</td>\n",
       "      <td>Johnston, Miss. Catherine Helen \"Carrie\"</td>\n",
       "      <td>female</td>\n",
       "      <td>NaN</td>\n",
       "      <td>1</td>\n",
       "      <td>2</td>\n",
       "      <td>W./C. 6607</td>\n",
       "      <td>23.4500</td>\n",
       "      <td>NaN</td>\n",
       "      <td>S</td>\n",
       "    </tr>\n",
       "    <tr>\n",
       "      <th>887</th>\n",
       "      <td>890</td>\n",
       "      <td>1</td>\n",
       "      <td>1</td>\n",
       "      <td>Behr, Mr. Karl Howell</td>\n",
       "      <td>male</td>\n",
       "      <td>26.0</td>\n",
       "      <td>0</td>\n",
       "      <td>0</td>\n",
       "      <td>111369</td>\n",
       "      <td>30.0000</td>\n",
       "      <td>C148</td>\n",
       "      <td>C</td>\n",
       "    </tr>\n",
       "    <tr>\n",
       "      <th>888</th>\n",
       "      <td>891</td>\n",
       "      <td>0</td>\n",
       "      <td>3</td>\n",
       "      <td>Dooley, Mr. Patrick</td>\n",
       "      <td>male</td>\n",
       "      <td>32.0</td>\n",
       "      <td>0</td>\n",
       "      <td>0</td>\n",
       "      <td>370376</td>\n",
       "      <td>7.7500</td>\n",
       "      <td>NaN</td>\n",
       "      <td>Q</td>\n",
       "    </tr>\n",
       "  </tbody>\n",
       "</table>\n",
       "<p>889 rows × 12 columns</p>\n",
       "</div>"
      ],
      "text/plain": [
       "     PassengerId  Survived  Pclass  \\\n",
       "0              1         0       3   \n",
       "1              2         1       1   \n",
       "2              3         1       3   \n",
       "3              4         1       1   \n",
       "4              5         0       3   \n",
       "..           ...       ...     ...   \n",
       "884          887         0       2   \n",
       "885          888         1       1   \n",
       "886          889         0       3   \n",
       "887          890         1       1   \n",
       "888          891         0       3   \n",
       "\n",
       "                                                  Name     Sex   Age  SibSp  \\\n",
       "0                              Braund, Mr. Owen Harris    male  22.0      1   \n",
       "1    Cumings, Mrs. John Bradley (Florence Briggs Th...  female  38.0      1   \n",
       "2                               Heikkinen, Miss. Laina  female  26.0      0   \n",
       "3         Futrelle, Mrs. Jacques Heath (Lily May Peel)  female  35.0      1   \n",
       "4                             Allen, Mr. William Henry    male  35.0      0   \n",
       "..                                                 ...     ...   ...    ...   \n",
       "884                              Montvila, Rev. Juozas    male  27.0      0   \n",
       "885                       Graham, Miss. Margaret Edith  female  19.0      0   \n",
       "886           Johnston, Miss. Catherine Helen \"Carrie\"  female   NaN      1   \n",
       "887                              Behr, Mr. Karl Howell    male  26.0      0   \n",
       "888                                Dooley, Mr. Patrick    male  32.0      0   \n",
       "\n",
       "     Parch            Ticket     Fare Cabin Embarked  \n",
       "0        0         A/5 21171   7.2500   NaN        S  \n",
       "1        0          PC 17599  71.2833   C85        C  \n",
       "2        0  STON/O2. 3101282   7.9250   NaN        S  \n",
       "3        0            113803  53.1000  C123        S  \n",
       "4        0            373450   8.0500   NaN        S  \n",
       "..     ...               ...      ...   ...      ...  \n",
       "884      0            211536  13.0000   NaN        S  \n",
       "885      0            112053  30.0000   B42        S  \n",
       "886      2        W./C. 6607  23.4500   NaN        S  \n",
       "887      0            111369  30.0000  C148        C  \n",
       "888      0            370376   7.7500   NaN        Q  \n",
       "\n",
       "[889 rows x 12 columns]"
      ]
     },
     "execution_count": 4,
     "metadata": {},
     "output_type": "execute_result"
    }
   ],
   "source": [
    "# only two observations missings embarked value - can be dropped\n",
    "train = train[train['Embarked'].notna()].reset_index(drop=True)\n",
    "train"
   ]
  },
  {
   "cell_type": "code",
   "execution_count": 5,
   "id": "fd5b34c7",
   "metadata": {
    "execution": {
     "iopub.execute_input": "2022-06-29T19:45:28.705715Z",
     "iopub.status.busy": "2022-06-29T19:45:28.705203Z",
     "iopub.status.idle": "2022-06-29T19:45:31.446512Z",
     "shell.execute_reply": "2022-06-29T19:45:31.445540Z"
    },
    "papermill": {
     "duration": 2.763582,
     "end_time": "2022-06-29T19:45:31.449375",
     "exception": false,
     "start_time": "2022-06-29T19:45:28.685793",
     "status": "completed"
    },
    "tags": []
   },
   "outputs": [
    {
     "data": {
      "image/png": "[encoded data removed]",
      "text/plain": [
       "<Figure size 1080x576 with 1 Axes>"
      ]
     },
     "metadata": {
      "needs_background": "light"
     },
     "output_type": "display_data"
    },
    {
     "name": "stderr",
     "output_type": "stream",
     "text": [
      "/opt/conda/lib/python3.7/site-packages/ipykernel_launcher.py:19: FutureWarning: In a future version of pandas all arguments of DataFrame.drop except for the argument 'labels' will be keyword-only\n"
     ]
    }
   ],
   "source": [
    "import seaborn as sns\n",
    "import matplotlib.pyplot as plt\n",
    "\n",
    "# determine why there are so many missing cabin values\n",
    "# age vs cabin\n",
    "# - dataframe of null cabin values and non-null\n",
    "cabin_present = [1 if pd.isna(value) else 0 for value in list(train['Cabin'].to_numpy())]\n",
    "cabin_present = pd.DataFrame(cabin_present)\n",
    "\n",
    "# - plot bar graph of age and cabins present\n",
    "plt.figure(figsize=(15,8))\n",
    "ax = sns.countplot(x='Age', hue = cabin_present[0], data = train)\n",
    "locs, labels = plt.xticks()\n",
    "plt.setp(labels, rotation=90)\n",
    "plt.show()\n",
    "# cabin data is missing for almost all\n",
    "# does not seem to be correlated with the way its missing\n",
    "# beneficial to drop cabin column as it may add extra noise\n",
    "train.drop('Cabin', 1, inplace=True)"
   ]
  },
  {
   "cell_type": "code",
   "execution_count": 6,
   "id": "8e897045",
   "metadata": {
    "execution": {
     "iopub.execute_input": "2022-06-29T19:45:31.480011Z",
     "iopub.status.busy": "2022-06-29T19:45:31.479466Z",
     "iopub.status.idle": "2022-06-29T19:45:31.501525Z",
     "shell.execute_reply": "2022-06-29T19:45:31.500803Z"
    },
    "papermill": {
     "duration": 0.039994,
     "end_time": "2022-06-29T19:45:31.503924",
     "exception": false,
     "start_time": "2022-06-29T19:45:31.463930",
     "status": "completed"
    },
    "tags": []
   },
   "outputs": [],
   "source": [
    "# a lot of missing age values\n",
    "# however, age may be an important variable to aid with prediction\n",
    "# impute average age based on titles\n",
    "\n",
    "# - extract titles from names\n",
    "def title(row):\n",
    "    name = row['Name']\n",
    "    for name in name.split():\n",
    "        if '.' in name:\n",
    "            return name\n",
    "            break\n",
    "train['Title'] = train.apply(lambda row: title(row), axis=1)\n",
    "\n",
    "# - determine average age for each title\n",
    "# unique_titles = list(train['Title'].unique())\n",
    "# for title in unique_title:"
   ]
  },
  {
   "cell_type": "markdown",
   "id": "99aefd17",
   "metadata": {
    "papermill": {
     "duration": 0.014314,
     "end_time": "2022-06-29T19:45:31.533307",
     "exception": false,
     "start_time": "2022-06-29T19:45:31.518993",
     "status": "completed"
    },
    "tags": []
   },
   "source": [
    "### Check For Wrong Entries or Special Characters"
   ]
  },
  {
   "cell_type": "code",
   "execution_count": 7,
   "id": "31b1df9e",
   "metadata": {
    "execution": {
     "iopub.execute_input": "2022-06-29T19:45:31.564112Z",
     "iopub.status.busy": "2022-06-29T19:45:31.563559Z",
     "iopub.status.idle": "2022-06-29T19:45:31.570552Z",
     "shell.execute_reply": "2022-06-29T19:45:31.569467Z"
    },
    "papermill": {
     "duration": 0.024954,
     "end_time": "2022-06-29T19:45:31.572691",
     "exception": false,
     "start_time": "2022-06-29T19:45:31.547737",
     "status": "completed"
    },
    "tags": []
   },
   "outputs": [
    {
     "name": "stdout",
     "output_type": "stream",
     "text": [
      "Title : ['Mr.' 'Mrs.' 'Miss.' 'Master.' 'Don.' 'Rev.' 'Dr.' 'Mme.' 'Ms.' 'Major.'\n",
      " 'Lady.' 'Sir.' 'Mlle.' 'Col.' 'Capt.' 'Countess.' 'Jonkheer.']\n"
     ]
    }
   ],
   "source": [
    "for col in train.columns:\n",
    "    if col == 'Title':\n",
    "        print('{} : {}'.format(col,train[col].unique()))\n",
    "# no wrong entries or special characters"
   ]
  }
 ],
 "metadata": {
  "kernelspec": {
   "display_name": "Python 3",
   "language": "python",
   "name": "python3"
  },
  "language_info": {
   "codemirror_mode": {
    "name": "ipython",
    "version": 3
   },
   "file_extension": ".py",
   "mimetype": "text/x-python",
   "name": "python",
   "nbconvert_exporter": "python",
   "pygments_lexer": "ipython3",
   "version": "3.7.12"
  },
  "papermill": {
   "default_parameters": {},
   "duration": 13.75647,
   "end_time": "2022-06-29T19:45:32.207146",
   "environment_variables": {},
   "exception": null,
   "input_path": "__notebook__.ipynb",
   "output_path": "__notebook__.ipynb",
   "parameters": {},
   "start_time": "2022-06-29T19:45:18.450676",
   "version": "2.3.4"
  }
 },
 "nbformat": 4,
 "nbformat_minor": 5
}
