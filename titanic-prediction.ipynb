{
 "cells": [
  {
   "cell_type": "code",
   "execution_count": 1,
   "id": "addd88ac",
   "metadata": {
    "execution": {
     "iopub.execute_input": "2022-06-30T00:34:38.179522Z",
     "iopub.status.busy": "2022-06-30T00:34:38.178851Z",
     "iopub.status.idle": "2022-06-30T00:34:38.212571Z",
     "shell.execute_reply": "2022-06-30T00:34:38.211749Z"
    },
    "papermill": {
     "duration": 0.052268,
     "end_time": "2022-06-30T00:34:38.215071",
     "exception": false,
     "start_time": "2022-06-30T00:34:38.162803",
     "status": "completed"
    },
    "tags": []
   },
   "outputs": [],
   "source": [
    "import numpy as np\n",
    "import pandas as pd\n",
    "\n",
    "# read data file\n",
    "train = pd.read_csv(\"../input/titanic/train.csv\")\n",
    "test = pd.read_csv(\"../input/titanic/train.csv\")"
   ]
  },
  {
   "cell_type": "markdown",
   "id": "8ade37c8",
   "metadata": {
    "papermill": {
     "duration": 0.012403,
     "end_time": "2022-06-30T00:34:38.240392",
     "exception": false,
     "start_time": "2022-06-30T00:34:38.227989",
     "status": "completed"
    },
    "tags": []
   },
   "source": [
    "# Exploratory Data Analysis"
   ]
  },
  {
   "cell_type": "markdown",
   "id": "d096a99d",
   "metadata": {
    "papermill": {
     "duration": 0.012037,
     "end_time": "2022-06-30T00:34:38.264863",
     "exception": false,
     "start_time": "2022-06-30T00:34:38.252826",
     "status": "completed"
    },
    "tags": []
   },
   "source": [
    "### Check For Missing Values"
   ]
  },
  {
   "cell_type": "code",
   "execution_count": 2,
   "id": "059744ee",
   "metadata": {
    "execution": {
     "iopub.execute_input": "2022-06-30T00:34:38.291670Z",
     "iopub.status.busy": "2022-06-30T00:34:38.291103Z",
     "iopub.status.idle": "2022-06-30T00:34:38.303851Z",
     "shell.execute_reply": "2022-06-30T00:34:38.302902Z"
    },
    "papermill": {
     "duration": 0.029199,
     "end_time": "2022-06-30T00:34:38.306489",
     "exception": false,
     "start_time": "2022-06-30T00:34:38.277290",
     "status": "completed"
    },
    "tags": []
   },
   "outputs": [
    {
     "data": {
      "text/plain": [
       "PassengerId      0\n",
       "Survived         0\n",
       "Pclass           0\n",
       "Name             0\n",
       "Sex              0\n",
       "Age            177\n",
       "SibSp            0\n",
       "Parch            0\n",
       "Ticket           0\n",
       "Fare             0\n",
       "Cabin          687\n",
       "Embarked         2\n",
       "dtype: int64"
      ]
     },
     "execution_count": 2,
     "metadata": {},
     "output_type": "execute_result"
    }
   ],
   "source": [
    "train.isnull().sum()\n",
    "# Age is missing 177 rows of data\n",
    "# cabin is missing 687 rows of data"
   ]
  },
  {
   "cell_type": "code",
   "execution_count": 3,
   "id": "fb1bc38f",
   "metadata": {
    "execution": {
     "iopub.execute_input": "2022-06-30T00:34:38.335134Z",
     "iopub.status.busy": "2022-06-30T00:34:38.334563Z",
     "iopub.status.idle": "2022-06-30T00:34:38.362957Z",
     "shell.execute_reply": "2022-06-30T00:34:38.362090Z"
    },
    "papermill": {
     "duration": 0.045721,
     "end_time": "2022-06-30T00:34:38.365490",
     "exception": false,
     "start_time": "2022-06-30T00:34:38.319769",
     "status": "completed"
    },
    "tags": []
   },
   "outputs": [
    {
     "name": "stdout",
     "output_type": "stream",
     "text": [
      "<class 'pandas.core.frame.DataFrame'>\n",
      "RangeIndex: 891 entries, 0 to 890\n",
      "Data columns (total 12 columns):\n",
      " #   Column       Non-Null Count  Dtype  \n",
      "---  ------       --------------  -----  \n",
      " 0   PassengerId  891 non-null    int64  \n",
      " 1   Survived     891 non-null    int64  \n",
      " 2   Pclass       891 non-null    int64  \n",
      " 3   Name         891 non-null    object \n",
      " 4   Sex          891 non-null    object \n",
      " 5   Age          714 non-null    float64\n",
      " 6   SibSp        891 non-null    int64  \n",
      " 7   Parch        891 non-null    int64  \n",
      " 8   Ticket       891 non-null    object \n",
      " 9   Fare         891 non-null    float64\n",
      " 10  Cabin        204 non-null    object \n",
      " 11  Embarked     889 non-null    object \n",
      "dtypes: float64(2), int64(5), object(5)\n",
      "memory usage: 83.7+ KB\n"
     ]
    }
   ],
   "source": [
    "train.info()"
   ]
  },
  {
   "cell_type": "code",
   "execution_count": 4,
   "id": "06f93505",
   "metadata": {
    "execution": {
     "iopub.execute_input": "2022-06-30T00:34:38.394811Z",
     "iopub.status.busy": "2022-06-30T00:34:38.394507Z",
     "iopub.status.idle": "2022-06-30T00:34:38.404335Z",
     "shell.execute_reply": "2022-06-30T00:34:38.403431Z"
    },
    "papermill": {
     "duration": 0.026779,
     "end_time": "2022-06-30T00:34:38.406660",
     "exception": false,
     "start_time": "2022-06-30T00:34:38.379881",
     "status": "completed"
    },
    "tags": []
   },
   "outputs": [],
   "source": [
    "# convert categorical columns to pandas categorical data type\n",
    "train['Survived'] = pd.Categorical(train.Survived)\n",
    "train['Pclass'] = pd.Categorical(train.Pclass)\n",
    "train['Sex'] = pd.Categorical(train.Sex)\n",
    "train['Embarked'] = pd.Categorical(train.Embarked)"
   ]
  },
  {
   "cell_type": "code",
   "execution_count": 5,
   "id": "b2f9d332",
   "metadata": {
    "execution": {
     "iopub.execute_input": "2022-06-30T00:34:38.435036Z",
     "iopub.status.busy": "2022-06-30T00:34:38.434697Z",
     "iopub.status.idle": "2022-06-30T00:34:38.472832Z",
     "shell.execute_reply": "2022-06-30T00:34:38.471961Z"
    },
    "papermill": {
     "duration": 0.05504,
     "end_time": "2022-06-30T00:34:38.475027",
     "exception": false,
     "start_time": "2022-06-30T00:34:38.419987",
     "status": "completed"
    },
    "tags": []
   },
   "outputs": [
    {
     "data": {
      "text/html": [
       "<div>\n",
       "<style scoped>\n",
       "    .dataframe tbody tr th:only-of-type {\n",
       "        vertical-align: middle;\n",
       "    }\n",
       "\n",
       "    .dataframe tbody tr th {\n",
       "        vertical-align: top;\n",
       "    }\n",
       "\n",
       "    .dataframe thead th {\n",
       "        text-align: right;\n",
       "    }\n",
       "</style>\n",
       "<table border=\"1\" class=\"dataframe\">\n",
       "  <thead>\n",
       "    <tr style=\"text-align: right;\">\n",
       "      <th></th>\n",
       "      <th>PassengerId</th>\n",
       "      <th>Survived</th>\n",
       "      <th>Pclass</th>\n",
       "      <th>Name</th>\n",
       "      <th>Sex</th>\n",
       "      <th>Age</th>\n",
       "      <th>SibSp</th>\n",
       "      <th>Parch</th>\n",
       "      <th>Ticket</th>\n",
       "      <th>Fare</th>\n",
       "      <th>Cabin</th>\n",
       "      <th>Embarked</th>\n",
       "    </tr>\n",
       "  </thead>\n",
       "  <tbody>\n",
       "    <tr>\n",
       "      <th>0</th>\n",
       "      <td>1</td>\n",
       "      <td>0</td>\n",
       "      <td>3</td>\n",
       "      <td>Braund, Mr. Owen Harris</td>\n",
       "      <td>male</td>\n",
       "      <td>22.0</td>\n",
       "      <td>1</td>\n",
       "      <td>0</td>\n",
       "      <td>A/5 21171</td>\n",
       "      <td>7.2500</td>\n",
       "      <td>NaN</td>\n",
       "      <td>S</td>\n",
       "    </tr>\n",
       "    <tr>\n",
       "      <th>1</th>\n",
       "      <td>2</td>\n",
       "      <td>1</td>\n",
       "      <td>1</td>\n",
       "      <td>Cumings, Mrs. John Bradley (Florence Briggs Th...</td>\n",
       "      <td>female</td>\n",
       "      <td>38.0</td>\n",
       "      <td>1</td>\n",
       "      <td>0</td>\n",
       "      <td>PC 17599</td>\n",
       "      <td>71.2833</td>\n",
       "      <td>C85</td>\n",
       "      <td>C</td>\n",
       "    </tr>\n",
       "    <tr>\n",
       "      <th>2</th>\n",
       "      <td>3</td>\n",
       "      <td>1</td>\n",
       "      <td>3</td>\n",
       "      <td>Heikkinen, Miss. Laina</td>\n",
       "      <td>female</td>\n",
       "      <td>26.0</td>\n",
       "      <td>0</td>\n",
       "      <td>0</td>\n",
       "      <td>STON/O2. 3101282</td>\n",
       "      <td>7.9250</td>\n",
       "      <td>NaN</td>\n",
       "      <td>S</td>\n",
       "    </tr>\n",
       "    <tr>\n",
       "      <th>3</th>\n",
       "      <td>4</td>\n",
       "      <td>1</td>\n",
       "      <td>1</td>\n",
       "      <td>Futrelle, Mrs. Jacques Heath (Lily May Peel)</td>\n",
       "      <td>female</td>\n",
       "      <td>35.0</td>\n",
       "      <td>1</td>\n",
       "      <td>0</td>\n",
       "      <td>113803</td>\n",
       "      <td>53.1000</td>\n",
       "      <td>C123</td>\n",
       "      <td>S</td>\n",
       "    </tr>\n",
       "    <tr>\n",
       "      <th>4</th>\n",
       "      <td>5</td>\n",
       "      <td>0</td>\n",
       "      <td>3</td>\n",
       "      <td>Allen, Mr. William Henry</td>\n",
       "      <td>male</td>\n",
       "      <td>35.0</td>\n",
       "      <td>0</td>\n",
       "      <td>0</td>\n",
       "      <td>373450</td>\n",
       "      <td>8.0500</td>\n",
       "      <td>NaN</td>\n",
       "      <td>S</td>\n",
       "    </tr>\n",
       "    <tr>\n",
       "      <th>...</th>\n",
       "      <td>...</td>\n",
       "      <td>...</td>\n",
       "      <td>...</td>\n",
       "      <td>...</td>\n",
       "      <td>...</td>\n",
       "      <td>...</td>\n",
       "      <td>...</td>\n",
       "      <td>...</td>\n",
       "      <td>...</td>\n",
       "      <td>...</td>\n",
       "      <td>...</td>\n",
       "      <td>...</td>\n",
       "    </tr>\n",
       "    <tr>\n",
       "      <th>884</th>\n",
       "      <td>887</td>\n",
       "      <td>0</td>\n",
       "      <td>2</td>\n",
       "      <td>Montvila, Rev. Juozas</td>\n",
       "      <td>male</td>\n",
       "      <td>27.0</td>\n",
       "      <td>0</td>\n",
       "      <td>0</td>\n",
       "      <td>211536</td>\n",
       "      <td>13.0000</td>\n",
       "      <td>NaN</td>\n",
       "      <td>S</td>\n",
       "    </tr>\n",
       "    <tr>\n",
       "      <th>885</th>\n",
       "      <td>888</td>\n",
       "      <td>1</td>\n",
       "      <td>1</td>\n",
       "      <td>Graham, Miss. Margaret Edith</td>\n",
       "      <td>female</td>\n",
       "      <td>19.0</td>\n",
       "      <td>0</td>\n",
       "      <td>0</td>\n",
       "      <td>112053</td>\n",
       "      <td>30.0000</td>\n",
       "      <td>B42</td>\n",
       "      <td>S</td>\n",
       "    </tr>\n",
       "    <tr>\n",
       "      <th>886</th>\n",
       "      <td>889</td>\n",
       "      <td>0</td>\n",
       "      <td>3</td>\n",
       "      <td>Johnston, Miss. Catherine Helen \"Carrie\"</td>\n",
       "      <td>female</td>\n",
       "      <td>NaN</td>\n",
       "      <td>1</td>\n",
       "      <td>2</td>\n",
       "      <td>W./C. 6607</td>\n",
       "      <td>23.4500</td>\n",
       "      <td>NaN</td>\n",
       "      <td>S</td>\n",
       "    </tr>\n",
       "    <tr>\n",
       "      <th>887</th>\n",
       "      <td>890</td>\n",
       "      <td>1</td>\n",
       "      <td>1</td>\n",
       "      <td>Behr, Mr. Karl Howell</td>\n",
       "      <td>male</td>\n",
       "      <td>26.0</td>\n",
       "      <td>0</td>\n",
       "      <td>0</td>\n",
       "      <td>111369</td>\n",
       "      <td>30.0000</td>\n",
       "      <td>C148</td>\n",
       "      <td>C</td>\n",
       "    </tr>\n",
       "    <tr>\n",
       "      <th>888</th>\n",
       "      <td>891</td>\n",
       "      <td>0</td>\n",
       "      <td>3</td>\n",
       "      <td>Dooley, Mr. Patrick</td>\n",
       "      <td>male</td>\n",
       "      <td>32.0</td>\n",
       "      <td>0</td>\n",
       "      <td>0</td>\n",
       "      <td>370376</td>\n",
       "      <td>7.7500</td>\n",
       "      <td>NaN</td>\n",
       "      <td>Q</td>\n",
       "    </tr>\n",
       "  </tbody>\n",
       "</table>\n",
       "<p>889 rows × 12 columns</p>\n",
       "</div>"
      ],
      "text/plain": [
       "     PassengerId Survived Pclass  \\\n",
       "0              1        0      3   \n",
       "1              2        1      1   \n",
       "2              3        1      3   \n",
       "3              4        1      1   \n",
       "4              5        0      3   \n",
       "..           ...      ...    ...   \n",
       "884          887        0      2   \n",
       "885          888        1      1   \n",
       "886          889        0      3   \n",
       "887          890        1      1   \n",
       "888          891        0      3   \n",
       "\n",
       "                                                  Name     Sex   Age  SibSp  \\\n",
       "0                              Braund, Mr. Owen Harris    male  22.0      1   \n",
       "1    Cumings, Mrs. John Bradley (Florence Briggs Th...  female  38.0      1   \n",
       "2                               Heikkinen, Miss. Laina  female  26.0      0   \n",
       "3         Futrelle, Mrs. Jacques Heath (Lily May Peel)  female  35.0      1   \n",
       "4                             Allen, Mr. William Henry    male  35.0      0   \n",
       "..                                                 ...     ...   ...    ...   \n",
       "884                              Montvila, Rev. Juozas    male  27.0      0   \n",
       "885                       Graham, Miss. Margaret Edith  female  19.0      0   \n",
       "886           Johnston, Miss. Catherine Helen \"Carrie\"  female   NaN      1   \n",
       "887                              Behr, Mr. Karl Howell    male  26.0      0   \n",
       "888                                Dooley, Mr. Patrick    male  32.0      0   \n",
       "\n",
       "     Parch            Ticket     Fare Cabin Embarked  \n",
       "0        0         A/5 21171   7.2500   NaN        S  \n",
       "1        0          PC 17599  71.2833   C85        C  \n",
       "2        0  STON/O2. 3101282   7.9250   NaN        S  \n",
       "3        0            113803  53.1000  C123        S  \n",
       "4        0            373450   8.0500   NaN        S  \n",
       "..     ...               ...      ...   ...      ...  \n",
       "884      0            211536  13.0000   NaN        S  \n",
       "885      0            112053  30.0000   B42        S  \n",
       "886      2        W./C. 6607  23.4500   NaN        S  \n",
       "887      0            111369  30.0000  C148        C  \n",
       "888      0            370376   7.7500   NaN        Q  \n",
       "\n",
       "[889 rows x 12 columns]"
      ]
     },
     "execution_count": 5,
     "metadata": {},
     "output_type": "execute_result"
    }
   ],
   "source": [
    "# only two observations missings embarked value - can be dropped\n",
    "train = train[train['Embarked'].notna()].reset_index(drop=True)\n",
    "train"
   ]
  },
  {
   "cell_type": "code",
   "execution_count": 6,
   "id": "9e6d1e42",
   "metadata": {
    "execution": {
     "iopub.execute_input": "2022-06-30T00:34:38.504752Z",
     "iopub.status.busy": "2022-06-30T00:34:38.504420Z",
     "iopub.status.idle": "2022-06-30T00:34:41.292211Z",
     "shell.execute_reply": "2022-06-30T00:34:41.291268Z"
    },
    "papermill": {
     "duration": 2.806414,
     "end_time": "2022-06-30T00:34:41.295635",
     "exception": false,
     "start_time": "2022-06-30T00:34:38.489221",
     "status": "completed"
    },
    "tags": []
   },
   "outputs": [
    {
     "data": {
      "image/png": "[encoded data removed]",
      "text/plain": [
       "<Figure size 1080x576 with 1 Axes>"
      ]
     },
     "metadata": {
      "needs_background": "light"
     },
     "output_type": "display_data"
    },
    {
     "name": "stderr",
     "output_type": "stream",
     "text": [
      "/opt/conda/lib/python3.7/site-packages/ipykernel_launcher.py:19: FutureWarning: In a future version of pandas all arguments of DataFrame.drop except for the argument 'labels' will be keyword-only\n"
     ]
    }
   ],
   "source": [
    "import seaborn as sns\n",
    "import matplotlib.pyplot as plt\n",
    "\n",
    "# determine why there are so many missing cabin values\n",
    "# age vs cabin\n",
    "# - dataframe of null cabin values and non-null\n",
    "cabin_present = [1 if pd.isna(value) else 0 for value in list(train['Cabin'].to_numpy())]\n",
    "cabin_present = pd.DataFrame(cabin_present)\n",
    "\n",
    "# - plot bar graph of age and cabins present\n",
    "plt.figure(figsize=(15,8))\n",
    "ax = sns.countplot(x='Age', hue = cabin_present[0], data = train)\n",
    "locs, labels = plt.xticks()\n",
    "plt.setp(labels, rotation=90)\n",
    "plt.show()\n",
    "# cabin data is missing for almost all\n",
    "# does not seem to be correlated with the way its missing\n",
    "# beneficial to drop cabin column as it may add extra noise\n",
    "train.drop('Cabin', 1, inplace=True)"
   ]
  },
  {
   "cell_type": "code",
   "execution_count": 7,
   "id": "0699252c",
   "metadata": {
    "execution": {
     "iopub.execute_input": "2022-06-30T00:34:41.330097Z",
     "iopub.status.busy": "2022-06-30T00:34:41.329760Z",
     "iopub.status.idle": "2022-06-30T00:34:41.529140Z",
     "shell.execute_reply": "2022-06-30T00:34:41.528203Z"
    },
    "papermill": {
     "duration": 0.219859,
     "end_time": "2022-06-30T00:34:41.531698",
     "exception": false,
     "start_time": "2022-06-30T00:34:41.311839",
     "status": "completed"
    },
    "tags": []
   },
   "outputs": [
    {
     "data": {
      "text/plain": [
       "<AxesSubplot:xlabel='Survived', ylabel='Age'>"
      ]
     },
     "execution_count": 7,
     "metadata": {},
     "output_type": "execute_result"
    },
    {
     "data": {
      "image/png": "[encoded data removed]",
      "text/plain": [
       "<Figure size 432x288 with 1 Axes>"
      ]
     },
     "metadata": {
      "needs_background": "light"
     },
     "output_type": "display_data"
    }
   ],
   "source": [
    "# determine relationship between age and survival\n",
    "sns.boxplot(y=\"Age\", x=\"Survived\", data=train)\n",
    "# 0 means not survived and 1 means survived\n",
    "# some discrepancies"
   ]
  },
  {
   "cell_type": "code",
   "execution_count": 8,
   "id": "cfe8101a",
   "metadata": {
    "execution": {
     "iopub.execute_input": "2022-06-30T00:34:41.568919Z",
     "iopub.status.busy": "2022-06-30T00:34:41.568486Z",
     "iopub.status.idle": "2022-06-30T00:34:41.620737Z",
     "shell.execute_reply": "2022-06-30T00:34:41.620029Z"
    },
    "papermill": {
     "duration": 0.072719,
     "end_time": "2022-06-30T00:34:41.623229",
     "exception": false,
     "start_time": "2022-06-30T00:34:41.550510",
     "status": "completed"
    },
    "tags": []
   },
   "outputs": [
    {
     "name": "stdout",
     "output_type": "stream",
     "text": [
      "<class 'pandas.core.frame.DataFrame'>\n",
      "RangeIndex: 889 entries, 0 to 888\n",
      "Data columns (total 12 columns):\n",
      " #   Column       Non-Null Count  Dtype   \n",
      "---  ------       --------------  -----   \n",
      " 0   PassengerId  889 non-null    int64   \n",
      " 1   Survived     889 non-null    category\n",
      " 2   Pclass       889 non-null    category\n",
      " 3   Name         889 non-null    object  \n",
      " 4   Sex          889 non-null    category\n",
      " 5   Age          177 non-null    float64 \n",
      " 6   SibSp        889 non-null    int64   \n",
      " 7   Parch        889 non-null    int64   \n",
      " 8   Ticket       889 non-null    object  \n",
      " 9   Fare         889 non-null    float64 \n",
      " 10  Embarked     889 non-null    category\n",
      " 11  Title        889 non-null    object  \n",
      "dtypes: category(4), float64(2), int64(3), object(3)\n",
      "memory usage: 59.7+ KB\n"
     ]
    }
   ],
   "source": [
    "# a lot of missing age values\n",
    "# however, age could be a factor to aid in predicting if someone survived or not\n",
    "# impute average age based on titles\n",
    "\n",
    "# - extract titles from names\n",
    "def title(row):\n",
    "    name = row['Name']\n",
    "    for name in name.split():\n",
    "        if '.' in name:\n",
    "            return name\n",
    "            break\n",
    "train['Title'] = train.apply(lambda row: title(row), axis=1)\n",
    "\n",
    "# - determine average age for each title\n",
    "average_by_title = train.groupby('Title')['Age'].mean().to_dict()\n",
    "\n",
    "# - use these averages to fill in for missing age values based on title\n",
    "train['Age'] = train.apply(\n",
    "    lambda row: average_by_title[row['Title']] if (np.isnan(row['Age'])) else None,\n",
    "    axis = 1\n",
    ")\n",
    "train.info()"
   ]
  },
  {
   "cell_type": "markdown",
   "id": "1171d08b",
   "metadata": {
    "papermill": {
     "duration": 0.016914,
     "end_time": "2022-06-30T00:34:41.657587",
     "exception": false,
     "start_time": "2022-06-30T00:34:41.640673",
     "status": "completed"
    },
    "tags": []
   },
   "source": [
    "### Check For Wrong Entries or Special Characters"
   ]
  },
  {
   "cell_type": "code",
   "execution_count": 9,
   "id": "42d19535",
   "metadata": {
    "execution": {
     "iopub.execute_input": "2022-06-30T00:34:41.696418Z",
     "iopub.status.busy": "2022-06-30T00:34:41.695832Z",
     "iopub.status.idle": "2022-06-30T00:34:41.699113Z",
     "shell.execute_reply": "2022-06-30T00:34:41.698475Z"
    },
    "papermill": {
     "duration": 0.025921,
     "end_time": "2022-06-30T00:34:41.701151",
     "exception": false,
     "start_time": "2022-06-30T00:34:41.675230",
     "status": "completed"
    },
    "tags": []
   },
   "outputs": [],
   "source": [
    "# for col in train.columns:\n",
    "#         print('{} : {}'.format(col,train[col].unique()))\n",
    "# no wrong entries or special characters"
   ]
  }
 ],
 "metadata": {
  "kernelspec": {
   "display_name": "Python 3",
   "language": "python",
   "name": "python3"
  },
  "language_info": {
   "codemirror_mode": {
    "name": "ipython",
    "version": 3
   },
   "file_extension": ".py",
   "mimetype": "text/x-python",
   "name": "python",
   "nbconvert_exporter": "python",
   "pygments_lexer": "ipython3",
   "version": "3.7.12"
  },
  "papermill": {
   "default_parameters": {},
   "duration": 16.63831,
   "end_time": "2022-06-30T00:34:42.542908",
   "environment_variables": {},
   "exception": null,
   "input_path": "__notebook__.ipynb",
   "output_path": "__notebook__.ipynb",
   "parameters": {},
   "start_time": "2022-06-30T00:34:25.904598",
   "version": "2.3.4"
  }
 },
 "nbformat": 4,
 "nbformat_minor": 5
}
